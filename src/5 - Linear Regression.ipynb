{
 "cells": [
  {
   "cell_type": "code",
   "execution_count": 6,
   "metadata": {},
   "outputs": [],
   "source": [
    "import tensorflow as tf\n",
    "import numpy as np\n",
    "import matplotlib.pyplot as plt"
   ]
  },
  {
   "cell_type": "code",
   "execution_count": 7,
   "metadata": {},
   "outputs": [],
   "source": [
    "X = np.random.rand(100).astype(np.float32)"
   ]
  },
  {
   "cell_type": "code",
   "execution_count": 16,
   "metadata": {},
   "outputs": [],
   "source": [
    "a = 20\n",
    "b = 40\n",
    "Y = a * X + b"
   ]
  },
  {
   "cell_type": "code",
   "execution_count": 17,
   "metadata": {},
   "outputs": [
    {
     "data": {
      "image/png": "[encoded data removed]",
      "text/plain": [
       "<matplotlib.figure.Figure at 0x7ff06902f0b8>"
      ]
     },
     "metadata": {},
     "output_type": "display_data"
    }
   ],
   "source": [
    "plt.plot(X, Y);"
   ]
  },
  {
   "cell_type": "code",
   "execution_count": 10,
   "metadata": {},
   "outputs": [],
   "source": [
    "Y = np.vectorize(lambda y: y + np.random.normal(loc=0.0, scale=0.05))(Y)\n",
    "a_var = tf.Variable(1.0)\n",
    "b_var = tf.Variable(1.0)\n",
    "y_var = a_var * X + b_var"
   ]
  },
  {
   "cell_type": "code",
   "execution_count": 11,
   "metadata": {},
   "outputs": [
    {
     "data": {
      "text/plain": [
       "array([56.76466516, 69.84153269, 59.06373175, 49.39298451, 85.22164151,\n",
       "       89.54005874, 69.08705836, 68.87070296, 53.96920922, 62.66598984,\n",
       "       57.84794221, 58.27115152, 84.42190769, 88.8353617 , 68.32752198,\n",
       "       42.9795722 , 81.37929834, 88.32952189, 83.51675622, 87.99133409,\n",
       "       87.23558088, 52.67070999, 72.20661372, 74.4413858 , 56.87504328,\n",
       "       79.4681755 , 63.62725167, 47.01075225, 73.94249398, 61.9079921 ,\n",
       "       59.22415878, 79.77801219, 84.93190269, 52.40945447, 59.8550082 ,\n",
       "       86.38096405, 65.8543083 , 57.45682541, 70.55448786, 63.67343576,\n",
       "       71.82931862, 74.84959965, 77.00688273, 78.83588918, 54.62048672,\n",
       "       77.7403934 , 67.28912407, 67.95444767, 48.71456106, 77.23506698,\n",
       "       73.42917244, 82.16992934, 60.70600541, 72.35311459, 65.84284556,\n",
       "       44.21032606, 69.31139828, 52.82458251, 66.25144303, 88.50000906,\n",
       "       74.91910347, 79.1120621 , 58.50661664, 54.60522251, 64.65520977,\n",
       "       74.66267149, 42.97032723, 61.3924481 , 56.23358194, 83.63344146,\n",
       "       43.42682322, 53.06305722, 75.99947855, 63.03976698, 64.44724838,\n",
       "       75.02310617, 45.89807327, 45.39399103, 78.10170567, 64.74449201,\n",
       "       42.73313443, 49.11831779, 40.69538069, 87.2198408 , 86.61185618,\n",
       "       42.63281925, 50.56305163, 82.35156502, 47.72823509, 89.43333419,\n",
       "       41.58675137, 87.52332999, 60.23783502, 47.43080463, 43.93305837,\n",
       "       61.34458807, 64.31938293, 75.03471616, 43.08737134, 42.84213794])"
      ]
     },
     "execution_count": 11,
     "metadata": {},
     "output_type": "execute_result"
    }
   ],
   "source": [
    "Y"
   ]
  },
  {
   "cell_type": "code",
   "execution_count": 12,
   "metadata": {},
   "outputs": [],
   "source": [
    "loss = tf.reduce_mean(tf.square(y_var - Y))\n",
    "optimizer = tf.train.GradientDescentOptimizer(0.5)\n",
    "train = optimizer.minimize(loss)"
   ]
  },
  {
   "cell_type": "code",
   "execution_count": 13,
   "metadata": {},
   "outputs": [],
   "source": [
    "TRAINING_STEPS = 300\n",
    "results = []\n",
    "with tf.Session() as sess:\n",
    "    sess.run(tf.global_variables_initializer())\n",
    "    for step in range(TRAINING_STEPS):\n",
    "        results.append(sess.run([train, a_var, b_var])[1:])"
   ]
  },
  {
   "cell_type": "code",
   "execution_count": 14,
   "metadata": {},
   "outputs": [
    {
     "name": "stdout",
     "output_type": "stream",
     "text": [
      "a: 50.00957 b: 39.9946\n"
     ]
    }
   ],
   "source": [
    "final_pred = results[-1]\n",
    "a_hat = final_pred[0]\n",
    "b_hat = final_pred[1]\n",
    "y_hat = a_hat * X + b_hat\n",
    "\n",
    "print(\"a:\", a_hat, \"b:\", b_hat)"
   ]
  },
  {
   "cell_type": "code",
   "execution_count": 18,
   "metadata": {},
   "outputs": [
    {
     "data": {
      "image/png": "[encoded data removed]",
      "text/plain": [
       "<matplotlib.figure.Figure at 0x7ff069055b38>"
      ]
     },
     "metadata": {},
     "output_type": "display_data"
    }
   ],
   "source": [
    "plt.plot(X, Y);\n",
    "plt.plot(X, y_hat);"
   ]
  },
  {
   "cell_type": "code",
   "execution_count": null,
   "metadata": {},
   "outputs": [],
   "source": []
  }
 ],
 "metadata": {
  "kernelspec": {
   "display_name": "jupyter3_Python_3",
   "language": "python",
   "name": "jupyter3_python_3"
  },
  "language_info": {
   "codemirror_mode": {
    "name": "ipython",
    "version": 3
   },
   "file_extension": ".py",
   "mimetype": "text/x-python",
   "name": "python",
   "nbconvert_exporter": "python",
   "pygments_lexer": "ipython3",
   "version": "3.6.4"
  }
 },
 "nbformat": 4,
 "nbformat_minor": 2
}
